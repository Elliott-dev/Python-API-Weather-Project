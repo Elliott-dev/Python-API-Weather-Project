{
 "cells": [
  {
   "cell_type": "markdown",
   "id": "9ef2ebd8",
   "metadata": {},
   "source": [
    "# WeatherPy\n",
    "----\n",
    "\n",
    "#### Note\n",
    "* Instructions have been included for each segment. You do not have to follow them exactly, but they are included to help you think through the steps.\n",
    "\n"
   ]
  },
  {
   "cell_type": "code",
   "execution_count": 1,
   "id": "f943f876",
   "metadata": {},
   "outputs": [],
   "source": [
    "# Dependencies and Setup\n",
    "import matplotlib.pyplot as plt\n",
    "import pandas as pd\n",
    "import numpy as np\n",
    "import requests\n",
    "import time\n",
    "from scipy.stats import linregress\n",
    "import os\n",
    "import csv\n",
    "from datetime import date\n",
    "\n",
    "# Import API key\n",
    "from api_keys import weather_api_key\n",
    "\n",
    "# Incorporated citipy to determine city based on latitude and longitude\n",
    "from citipy import citipy\n",
    "\n",
    "# Range of latitudes and longitudes\n",
    "lat_range = (-90, 90)\n",
    "lng_range = (-180, 180)"
   ]
  },
  {
   "cell_type": "markdown",
   "id": "f466f922",
   "metadata": {},
   "source": [
    "## Generate Cities List"
   ]
  },
  {
   "cell_type": "code",
   "execution_count": 2,
   "id": "b146bcb2",
   "metadata": {},
   "outputs": [
    {
     "data": {
      "text/plain": [
       "581"
      ]
     },
     "execution_count": 2,
     "metadata": {},
     "output_type": "execute_result"
    }
   ],
   "source": [
    "# List for holding lat_lngs and cities\n",
    "lat_lngs = []\n",
    "cities = []\n",
    "\n",
    "# Create a set of random lat and lng combinations\n",
    "lats = np.random.uniform(lat_range[0], lat_range[1], size=1500)\n",
    "lngs = np.random.uniform(lng_range[0], lng_range[1], size=1500)\n",
    "lat_lngs = zip(lats, lngs)\n",
    "\n",
    "# Identify nearest city for each lat, lng combination\n",
    "for lat_lng in lat_lngs:\n",
    "    city = citipy.nearest_city(lat_lng[0], lat_lng[1]).city_name\n",
    "    \n",
    "    # If the city is unique, then add it to a our cities list\n",
    "    if city not in cities:\n",
    "        cities.append(city)\n",
    "\n",
    "# Print the city count to confirm sufficient count\n",
    "len(cities)"
   ]
  },
  {
   "cell_type": "markdown",
   "id": "2689f592",
   "metadata": {},
   "source": [
    "### Perform API Calls\n",
    "* Perform a weather check on each city using a series of successive API calls.\n",
    "* Include a print log of each city as it'sbeing processed (with the city number and city name).\n",
    "\n",
    "> **HINT:** The OpenWeatherMap API only allows 60 calls per minute under their free plan. Try using `time.sleep(60)` after each set of 50 cities to avoid API errors due to large calls."
   ]
  },
  {
   "cell_type": "code",
   "execution_count": 3,
   "id": "4f6c73eb",
   "metadata": {},
   "outputs": [
    {
     "name": "stdout",
     "output_type": "stream",
     "text": [
      "Beginning Data Retrieval\n",
      "---------------------------\n",
      "Processing Record 1 of Set 1 | punta arenas\n",
      "Processing Record 2 of Set 1 | lorengau\n",
      "Processing Record 3 of Set 1 | new norfolk\n",
      "Processing Record 4 of Set 1 | qaanaaq\n",
      "Processing Record 5 of Set 1 | kapaa\n",
      "Processing Record 6 of Set 1 | el cope\n",
      "City not found. Skipping...\n",
      "Processing Record 7 of Set 1 | ampanihy\n",
      "Processing Record 8 of Set 1 | atuona\n",
      "Processing Record 9 of Set 1 | beringovskiy\n",
      "City not found. Skipping...\n",
      "Processing Record 10 of Set 1 | mangrol\n",
      "Processing Record 11 of Set 1 | rikitea\n",
      "Processing Record 12 of Set 1 | ancud\n",
      "Processing Record 13 of Set 1 | coquimbo\n",
      "Processing Record 14 of Set 1 | upington\n",
      "Processing Record 15 of Set 1 | cidreira\n",
      "City not found. Skipping...\n",
      "Processing Record 16 of Set 1 | uray\n",
      "Processing Record 17 of Set 1 | fort nelson\n",
      "Processing Record 18 of Set 1 | westport\n",
      "Processing Record 19 of Set 1 | sibolga\n",
      "Processing Record 20 of Set 1 | hamilton\n",
      "Processing Record 21 of Set 1 | cutro\n",
      "Processing Record 22 of Set 1 | hilo\n",
      "Processing Record 23 of Set 1 | hermanus\n",
      "Processing Record 24 of Set 1 | lebu\n",
      "Processing Record 25 of Set 1 | yangjiang\n",
      "Processing Record 26 of Set 1 | dikson\n",
      "Processing Record 27 of Set 1 | hamina\n",
      "Processing Record 28 of Set 1 | faanui\n",
      "Processing Record 29 of Set 1 | ushuaia\n",
      "Processing Record 30 of Set 1 | norman wells\n",
      "Processing Record 31 of Set 1 | bredasdorp\n",
      "Processing Record 32 of Set 1 | olafsvik\n",
      "Processing Record 33 of Set 1 | yar-sale\n",
      "City not found. Skipping...\n",
      "Processing Record 34 of Set 1 | busselton\n",
      "Processing Record 35 of Set 1 | avarua\n",
      "Processing Record 36 of Set 1 | kruisfontein\n",
      "City not found. Skipping...\n",
      "Processing Record 37 of Set 1 | vostok\n",
      "Processing Record 38 of Set 1 | hobart\n",
      "Processing Record 39 of Set 1 | mar del plata\n",
      "Processing Record 40 of Set 1 | tiznit\n",
      "Processing Record 41 of Set 1 | camapua\n",
      "Processing Record 42 of Set 1 | okhotsk\n",
      "Processing Record 43 of Set 1 | castro\n",
      "Processing Record 44 of Set 1 | beloha\n",
      "City not found. Skipping...\n",
      "Processing Record 45 of Set 1 | pisco\n",
      "Processing Record 46 of Set 1 | poum\n",
      "Processing Record 47 of Set 1 | carnarvon\n",
      "Processing Record 48 of Set 1 | guerrero negro\n",
      "Processing Record 49 of Set 1 | thompson\n",
      "Processing Record 50 of Set 1 | dalby\n",
      "Processing Record 0 of Set 2 | vila velha\n",
      "Processing Record 1 of Set 2 | yendi\n",
      "Processing Record 2 of Set 2 | vaini\n",
      "Processing Record 3 of Set 2 | tuktoyaktuk\n",
      "Processing Record 4 of Set 2 | najran\n",
      "Processing Record 5 of Set 2 | price\n",
      "Processing Record 6 of Set 2 | tostedt\n",
      "Processing Record 7 of Set 2 | victoria\n",
      "Processing Record 8 of Set 2 | yumen\n",
      "Processing Record 9 of Set 2 | cape town\n",
      "Processing Record 10 of Set 2 | nanortalik\n",
      "Processing Record 11 of Set 2 | vilhena\n",
      "Processing Record 12 of Set 2 | mount isa\n",
      "Processing Record 13 of Set 2 | pangai\n",
      "City not found. Skipping...\n",
      "Processing Record 14 of Set 2 | bluff\n",
      "Processing Record 15 of Set 2 | saint-philippe\n",
      "Processing Record 16 of Set 2 | luderitz\n",
      "Processing Record 17 of Set 2 | nhulunbuy\n",
      "Processing Record 18 of Set 2 | yellowknife\n",
      "Processing Record 19 of Set 2 | kaikalur\n",
      "Processing Record 20 of Set 2 | hami\n",
      "City not found. Skipping...\n",
      "Processing Record 21 of Set 2 | fortuna\n",
      "Processing Record 22 of Set 2 | say\n",
      "Processing Record 23 of Set 2 | tiksi\n",
      "Processing Record 24 of Set 2 | clearwater\n",
      "Processing Record 25 of Set 2 | porto murtinho\n",
      "Processing Record 26 of Set 2 | roald\n",
      "Processing Record 27 of Set 2 | flinders\n",
      "Processing Record 28 of Set 2 | isiro\n",
      "Processing Record 29 of Set 2 | michigan city\n",
      "Processing Record 30 of Set 2 | kodiak\n",
      "Processing Record 31 of Set 2 | plettenberg bay\n",
      "Processing Record 32 of Set 2 | mataura\n",
      "Processing Record 33 of Set 2 | ternate\n",
      "Processing Record 34 of Set 2 | albany\n",
      "Processing Record 35 of Set 2 | mayo\n",
      "Processing Record 36 of Set 2 | abu samrah\n",
      "Processing Record 37 of Set 2 | sao filipe\n",
      "Processing Record 38 of Set 2 | henties bay\n",
      "Processing Record 39 of Set 2 | mahebourg\n",
      "Processing Record 40 of Set 2 | general roca\n",
      "Processing Record 41 of Set 2 | constitucion\n",
      "Processing Record 42 of Set 2 | puerto ayora\n",
      "City not found. Skipping...\n",
      "Processing Record 43 of Set 2 | san diego de los banos\n",
      "Processing Record 44 of Set 2 | san quintin\n",
      "Processing Record 45 of Set 2 | nikolskoye\n",
      "Processing Record 46 of Set 2 | upernavik\n",
      "Processing Record 47 of Set 2 | dongsheng\n",
      "Processing Record 48 of Set 2 | omutninsk\n",
      "Processing Record 49 of Set 2 | saint john\n",
      "Processing Record 50 of Set 2 | hobyo\n",
      "Processing Record 0 of Set 3 | port alfred\n",
      "Processing Record 1 of Set 3 | arraial do cabo\n",
      "Processing Record 2 of Set 3 | port elizabeth\n",
      "City not found. Skipping...\n",
      "Processing Record 3 of Set 3 | khash\n",
      "Processing Record 4 of Set 3 | comodoro rivadavia\n",
      "Processing Record 5 of Set 3 | adrar\n",
      "Processing Record 6 of Set 3 | vung tau\n",
      "Processing Record 7 of Set 3 | jalu\n",
      "Processing Record 8 of Set 3 | anadyr\n",
      "Processing Record 9 of Set 3 | mao\n",
      "Processing Record 10 of Set 3 | poronaysk\n",
      "Processing Record 11 of Set 3 | sorland\n",
      "Processing Record 12 of Set 3 | maldonado\n",
      "Processing Record 13 of Set 3 | do gonbadan\n",
      "Processing Record 14 of Set 3 | faya\n",
      "Processing Record 15 of Set 3 | clyde river\n",
      "Processing Record 16 of Set 3 | jamestown\n",
      "Processing Record 17 of Set 3 | sao felix do xingu\n",
      "Processing Record 18 of Set 3 | bharatpur\n",
      "Processing Record 19 of Set 3 | hovd\n",
      "Processing Record 20 of Set 3 | viedma\n",
      "Processing Record 21 of Set 3 | souillac\n",
      "Processing Record 22 of Set 3 | hofn\n",
      "Processing Record 23 of Set 3 | lasa\n",
      "Processing Record 24 of Set 3 | colquechaca\n",
      "Processing Record 25 of Set 3 | bozeman\n",
      "City not found. Skipping...\n",
      "Processing Record 26 of Set 3 | saint-ambroise\n",
      "Processing Record 27 of Set 3 | colon\n",
      "Processing Record 28 of Set 3 | crateus\n",
      "Processing Record 29 of Set 3 | shingu\n",
      "Processing Record 30 of Set 3 | maragogi\n",
      "Processing Record 31 of Set 3 | saint-pierre\n",
      "Processing Record 32 of Set 3 | kaitangata\n",
      "City not found. Skipping...\n",
      "Processing Record 33 of Set 3 | verkhnetulomskiy\n",
      "Processing Record 34 of Set 3 | sulangan\n",
      "Processing Record 35 of Set 3 | cap malheureux\n",
      "Processing Record 36 of Set 3 | dingle\n",
      "Processing Record 37 of Set 3 | new milford\n",
      "Processing Record 38 of Set 3 | dhidhdhoo\n",
      "Processing Record 39 of Set 3 | sao joao da barra\n",
      "Processing Record 40 of Set 3 | severo-kurilsk\n",
      "Processing Record 41 of Set 3 | seminole\n",
      "Processing Record 42 of Set 3 | bairiki\n",
      "Processing Record 43 of Set 3 | changli\n",
      "Processing Record 44 of Set 3 | fare\n",
      "Processing Record 45 of Set 3 | jaleswar\n",
      "Processing Record 46 of Set 3 | nam som\n",
      "Processing Record 47 of Set 3 | omama\n",
      "Processing Record 48 of Set 3 | bethel\n",
      "Processing Record 49 of Set 3 | rocha\n",
      "Processing Record 50 of Set 3 | sitka\n",
      "Processing Record 0 of Set 4 | gympie\n",
      "Processing Record 1 of Set 4 | huron\n",
      "Processing Record 2 of Set 4 | salalah\n",
      "Processing Record 3 of Set 4 | longyearbyen\n",
      "Processing Record 4 of Set 4 | santa cruz\n",
      "Processing Record 5 of Set 4 | khatanga\n",
      "Processing Record 6 of Set 4 | umtata\n",
      "Processing Record 7 of Set 4 | east london\n",
      "Processing Record 8 of Set 4 | leningradskiy\n",
      "Processing Record 9 of Set 4 | bilibino\n",
      "Processing Record 10 of Set 4 | vaitape\n",
      "Processing Record 11 of Set 4 | torbay\n",
      "City not found. Skipping...\n",
      "Processing Record 12 of Set 4 | amapa\n",
      "Processing Record 13 of Set 4 | sayyan\n",
      "Processing Record 14 of Set 4 | benicia\n",
      "Processing Record 15 of Set 4 | lavrentiya\n",
      "Processing Record 16 of Set 4 | vidim\n",
      "Processing Record 17 of Set 4 | arlit\n",
      "Processing Record 18 of Set 4 | vestmannaeyjar\n",
      "Processing Record 19 of Set 4 | saint anthony\n",
      "Processing Record 20 of Set 4 | loa janan\n",
      "Processing Record 21 of Set 4 | fez\n",
      "Processing Record 22 of Set 4 | atherton\n",
      "Processing Record 23 of Set 4 | toora-khem\n",
      "Processing Record 24 of Set 4 | padang\n",
      "Processing Record 25 of Set 4 | belaya gora\n",
      "City not found. Skipping...\n",
      "Processing Record 26 of Set 4 | airai\n",
      "Processing Record 27 of Set 4 | saldanha\n",
      "Processing Record 28 of Set 4 | meulaboh\n",
      "City not found. Skipping...\n",
      "Processing Record 29 of Set 4 | mattru\n",
      "Processing Record 30 of Set 4 | pedasi\n",
      "Processing Record 31 of Set 4 | gribanovskiy\n",
      "Processing Record 32 of Set 4 | smidovich\n",
      "Processing Record 33 of Set 4 | parabel\n",
      "Processing Record 34 of Set 4 | ranong\n",
      "Processing Record 35 of Set 4 | codrington\n",
      "Processing Record 36 of Set 4 | le port\n"
     ]
    },
    {
     "name": "stdout",
     "output_type": "stream",
     "text": [
      "Processing Record 37 of Set 4 | garowe\n",
      "Processing Record 38 of Set 4 | cairns\n",
      "Processing Record 39 of Set 4 | nome\n",
      "Processing Record 40 of Set 4 | santa fe\n",
      "Processing Record 41 of Set 4 | salta\n",
      "Processing Record 42 of Set 4 | ostrovnoy\n",
      "Processing Record 43 of Set 4 | saskylakh\n",
      "Processing Record 44 of Set 4 | buta\n",
      "Processing Record 45 of Set 4 | serebryansk\n",
      "Processing Record 46 of Set 4 | paamiut\n",
      "Processing Record 47 of Set 4 | husavik\n",
      "Processing Record 48 of Set 4 | provideniya\n",
      "Processing Record 49 of Set 4 | namibe\n",
      "Processing Record 50 of Set 4 | uyskoye\n",
      "Processing Record 0 of Set 5 | bom jardim\n",
      "Processing Record 1 of Set 5 | sinaia\n",
      "Processing Record 2 of Set 5 | biskamzha\n",
      "Processing Record 3 of Set 5 | borogontsy\n",
      "Processing Record 4 of Set 5 | aquiraz\n",
      "Processing Record 5 of Set 5 | naliya\n",
      "Processing Record 6 of Set 5 | damietta\n",
      "Processing Record 7 of Set 5 | progreso\n",
      "Processing Record 8 of Set 5 | bengkulu\n",
      "Processing Record 9 of Set 5 | warrnambool\n",
      "Processing Record 10 of Set 5 | georgetown\n",
      "Processing Record 11 of Set 5 | savannah bight\n",
      "Processing Record 12 of Set 5 | jinxiang\n",
      "Processing Record 13 of Set 5 | narayanganj\n",
      "City not found. Skipping...\n",
      "Processing Record 14 of Set 5 | cabo san lucas\n",
      "Processing Record 15 of Set 5 | nykoping\n",
      "City not found. Skipping...\n",
      "City not found. Skipping...\n",
      "Processing Record 16 of Set 5 | eyl\n",
      "Processing Record 17 of Set 5 | noumea\n",
      "Processing Record 18 of Set 5 | chuy\n",
      "Processing Record 19 of Set 5 | luanda\n",
      "Processing Record 20 of Set 5 | leo\n",
      "City not found. Skipping...\n",
      "Processing Record 21 of Set 5 | doka\n",
      "Processing Record 22 of Set 5 | arequipa\n",
      "Processing Record 23 of Set 5 | ambunti\n",
      "Processing Record 24 of Set 5 | barrow\n",
      "Processing Record 25 of Set 5 | saucillo\n",
      "Processing Record 26 of Set 5 | majene\n",
      "City not found. Skipping...\n",
      "Processing Record 27 of Set 5 | brae\n",
      "Processing Record 28 of Set 5 | kalundborg\n",
      "Processing Record 29 of Set 5 | ribeira grande\n",
      "Processing Record 30 of Set 5 | semnan\n",
      "Processing Record 31 of Set 5 | kushmurun\n",
      "Processing Record 32 of Set 5 | terrace\n",
      "Processing Record 33 of Set 5 | alekseyevsk\n",
      "Processing Record 34 of Set 5 | matara\n",
      "Processing Record 35 of Set 5 | wilmington\n",
      "Processing Record 36 of Set 5 | pangody\n",
      "Processing Record 37 of Set 5 | kahului\n",
      "Processing Record 38 of Set 5 | honiara\n",
      "Processing Record 39 of Set 5 | kinarut\n",
      "Processing Record 40 of Set 5 | camacha\n",
      "Processing Record 41 of Set 5 | sioux lookout\n",
      "Processing Record 42 of Set 5 | thinadhoo\n",
      "City not found. Skipping...\n",
      "Processing Record 43 of Set 5 | hithadhoo\n",
      "Processing Record 44 of Set 5 | mahajanga\n",
      "Processing Record 45 of Set 5 | samarai\n",
      "Processing Record 46 of Set 5 | youkounkoun\n",
      "Processing Record 47 of Set 5 | klaksvik\n",
      "Processing Record 48 of Set 5 | turbat\n",
      "Processing Record 49 of Set 5 | basay\n",
      "Processing Record 50 of Set 5 | tupiza\n",
      "Processing Record 0 of Set 6 | gizo\n",
      "City not found. Skipping...\n",
      "Processing Record 1 of Set 6 | anicuns\n",
      "Processing Record 2 of Set 6 | hasaki\n",
      "Processing Record 3 of Set 6 | sovetskiy\n",
      "Processing Record 4 of Set 6 | homer\n",
      "Processing Record 5 of Set 6 | sisimiut\n",
      "Processing Record 6 of Set 6 | svetlaya\n",
      "Processing Record 7 of Set 6 | maturin\n",
      "Processing Record 8 of Set 6 | xichang\n",
      "Processing Record 9 of Set 6 | arcachon\n",
      "Processing Record 10 of Set 6 | ostersund\n",
      "Processing Record 11 of Set 6 | geraldton\n",
      "Processing Record 12 of Set 6 | san policarpo\n",
      "Processing Record 13 of Set 6 | basar\n",
      "Processing Record 14 of Set 6 | port lincoln\n",
      "Processing Record 15 of Set 6 | umarkot\n",
      "Processing Record 16 of Set 6 | sydney\n",
      "Processing Record 17 of Set 6 | salinopolis\n",
      "Processing Record 18 of Set 6 | iqaluit\n",
      "Processing Record 19 of Set 6 | havre\n",
      "Processing Record 20 of Set 6 | aykhal\n",
      "City not found. Skipping...\n",
      "City not found. Skipping...\n",
      "Processing Record 21 of Set 6 | pilot butte\n",
      "Processing Record 22 of Set 6 | bandarbeyla\n",
      "Processing Record 23 of Set 6 | ostuacan\n",
      "Processing Record 24 of Set 6 | tasiilaq\n",
      "Processing Record 25 of Set 6 | nefteyugansk\n",
      "Processing Record 26 of Set 6 | bukan\n",
      "Processing Record 27 of Set 6 | zamora\n",
      "Processing Record 28 of Set 6 | montepuez\n",
      "Processing Record 29 of Set 6 | chumphon\n",
      "Processing Record 30 of Set 6 | magan\n",
      "Processing Record 31 of Set 6 | banda aceh\n",
      "Processing Record 32 of Set 6 | chokurdakh\n",
      "Processing Record 33 of Set 6 | siniscola\n",
      "City not found. Skipping...\n",
      "City not found. Skipping...\n",
      "Processing Record 34 of Set 6 | cherskiy\n",
      "Processing Record 35 of Set 6 | ayorou\n",
      "Processing Record 36 of Set 6 | potosi\n",
      "Processing Record 37 of Set 6 | havoysund\n",
      "Processing Record 38 of Set 6 | porto novo\n",
      "Processing Record 39 of Set 6 | antsohihy\n",
      "City not found. Skipping...\n",
      "Processing Record 40 of Set 6 | ilulissat\n",
      "Processing Record 41 of Set 6 | celestun\n",
      "Processing Record 42 of Set 6 | hearst\n",
      "Processing Record 43 of Set 6 | divnogorsk\n",
      "Processing Record 44 of Set 6 | brandon\n",
      "Processing Record 45 of Set 6 | gornozavodsk\n",
      "Processing Record 46 of Set 6 | lebedinyy\n",
      "Processing Record 47 of Set 6 | lufilufi\n",
      "Processing Record 48 of Set 6 | richards bay\n",
      "Processing Record 49 of Set 6 | kushima\n",
      "Processing Record 50 of Set 6 | tautira\n",
      "Processing Record 0 of Set 7 | khvoynaya\n",
      "Processing Record 1 of Set 7 | laguna\n",
      "Processing Record 2 of Set 7 | bambous virieux\n",
      "Processing Record 3 of Set 7 | broome\n",
      "Processing Record 4 of Set 7 | narsaq\n",
      "Processing Record 5 of Set 7 | chama\n",
      "Processing Record 6 of Set 7 | caninde de sao francisco\n",
      "Processing Record 7 of Set 7 | talnakh\n",
      "Processing Record 8 of Set 7 | tres arroyos\n",
      "Processing Record 9 of Set 7 | pakokku\n",
      "Processing Record 10 of Set 7 | kumluca\n",
      "Processing Record 11 of Set 7 | berlevag\n",
      "Processing Record 12 of Set 7 | alice springs\n",
      "Processing Record 13 of Set 7 | mancora\n",
      "Processing Record 14 of Set 7 | chapleau\n",
      "Processing Record 15 of Set 7 | mandalgovi\n",
      "Processing Record 16 of Set 7 | fairlie\n",
      "Processing Record 17 of Set 7 | gorontalo\n",
      "Processing Record 18 of Set 7 | yelovo\n",
      "Processing Record 19 of Set 7 | cukai\n",
      "Processing Record 20 of Set 7 | kavieng\n",
      "Processing Record 21 of Set 7 | suraabad\n",
      "Processing Record 22 of Set 7 | butaritari\n",
      "Processing Record 23 of Set 7 | ribeira brava\n",
      "City not found. Skipping...\n",
      "Processing Record 24 of Set 7 | tiruchchendur\n",
      "Processing Record 25 of Set 7 | vilyuysk\n",
      "Processing Record 26 of Set 7 | neiafu\n",
      "Processing Record 27 of Set 7 | mertoyudan\n",
      "Processing Record 28 of Set 7 | caravelas\n",
      "Processing Record 29 of Set 7 | liwale\n",
      "Processing Record 30 of Set 7 | iranshahr\n",
      "City not found. Skipping...\n",
      "Processing Record 31 of Set 7 | jertih\n",
      "Processing Record 32 of Set 7 | alyangula\n",
      "Processing Record 33 of Set 7 | yulara\n",
      "Processing Record 34 of Set 7 | huarmey\n",
      "Processing Record 35 of Set 7 | vardo\n",
      "Processing Record 36 of Set 7 | los llanos de aridane\n",
      "City not found. Skipping...\n",
      "Processing Record 37 of Set 7 | mocuba\n",
      "Processing Record 38 of Set 7 | hualmay\n",
      "Processing Record 39 of Set 7 | araouane\n",
      "Processing Record 40 of Set 7 | san javier\n",
      "City not found. Skipping...\n",
      "Processing Record 41 of Set 7 | leuwiliang\n",
      "Processing Record 42 of Set 7 | san patricio\n",
      "Processing Record 43 of Set 7 | boguchany\n",
      "Processing Record 44 of Set 7 | natchez\n",
      "Processing Record 45 of Set 7 | sambava\n",
      "Processing Record 46 of Set 7 | kalemie\n",
      "Processing Record 47 of Set 7 | russell\n",
      "City not found. Skipping...\n",
      "Processing Record 48 of Set 7 | benguela\n",
      "Processing Record 49 of Set 7 | soyo\n",
      "Processing Record 50 of Set 7 | manicore\n",
      "Processing Record 0 of Set 8 | nishihara\n",
      "Processing Record 1 of Set 8 | lompoc\n",
      "Processing Record 2 of Set 8 | vila\n",
      "Processing Record 3 of Set 8 | usinsk\n",
      "Processing Record 4 of Set 8 | saint-georges\n",
      "Processing Record 5 of Set 8 | charyshskoye\n",
      "Processing Record 6 of Set 8 | peterhead\n",
      "Processing Record 7 of Set 8 | ixtapa\n",
      "Processing Record 8 of Set 8 | udachnyy\n",
      "Processing Record 9 of Set 8 | avera\n",
      "Processing Record 10 of Set 8 | broken hill\n",
      "City not found. Skipping...\n",
      "Processing Record 11 of Set 8 | panama city\n",
      "Processing Record 12 of Set 8 | zima\n",
      "Processing Record 13 of Set 8 | tobol\n",
      "Processing Record 14 of Set 8 | touros\n",
      "Processing Record 15 of Set 8 | kilosa\n",
      "Processing Record 16 of Set 8 | solnechnyy\n",
      "Processing Record 17 of Set 8 | kawalu\n",
      "Processing Record 18 of Set 8 | nanakuli\n",
      "Processing Record 19 of Set 8 | biak\n",
      "Processing Record 20 of Set 8 | minab\n",
      "Processing Record 21 of Set 8 | lethem\n"
     ]
    },
    {
     "name": "stdout",
     "output_type": "stream",
     "text": [
      "Processing Record 22 of Set 8 | vrede\n",
      "Processing Record 23 of Set 8 | tyukhtet\n",
      "Processing Record 24 of Set 8 | the valley\n",
      "Processing Record 25 of Set 8 | portland\n",
      "Processing Record 26 of Set 8 | makakilo city\n",
      "Processing Record 27 of Set 8 | laguna de perlas\n",
      "Processing Record 28 of Set 8 | karakulino\n",
      "Processing Record 29 of Set 8 | namatanai\n",
      "City not found. Skipping...\n",
      "Processing Record 30 of Set 8 | alofi\n",
      "Processing Record 31 of Set 8 | porto belo\n",
      "Processing Record 32 of Set 8 | nuuk\n",
      "Processing Record 33 of Set 8 | kant\n",
      "Processing Record 34 of Set 8 | baiyin\n",
      "Processing Record 35 of Set 8 | flin flon\n",
      "Processing Record 36 of Set 8 | inirida\n",
      "Processing Record 37 of Set 8 | putina\n",
      "Processing Record 38 of Set 8 | sabya\n",
      "Processing Record 39 of Set 8 | genhe\n",
      "Processing Record 40 of Set 8 | bombay\n",
      "Processing Record 41 of Set 8 | santa\n",
      "Processing Record 42 of Set 8 | port macquarie\n",
      "Processing Record 43 of Set 8 | saint-augustin\n",
      "Processing Record 44 of Set 8 | petropavlovsk-kamchatskiy\n",
      "Processing Record 45 of Set 8 | whitianga\n",
      "Processing Record 46 of Set 8 | coxim\n",
      "Processing Record 47 of Set 8 | lagoa\n",
      "Processing Record 48 of Set 8 | ust-tsilma\n",
      "Processing Record 49 of Set 8 | sinnamary\n",
      "Processing Record 50 of Set 8 | burnie\n",
      "Processing Record 0 of Set 9 | mgandu\n",
      "Processing Record 1 of Set 9 | san cristobal\n",
      "Processing Record 2 of Set 9 | kutum\n",
      "Processing Record 3 of Set 9 | san juan\n",
      "Processing Record 4 of Set 9 | isangel\n",
      "Processing Record 5 of Set 9 | pevek\n",
      "Processing Record 6 of Set 9 | vila franca do campo\n",
      "Processing Record 7 of Set 9 | dakar\n",
      "Processing Record 8 of Set 9 | tyshkivka\n",
      "City not found. Skipping...\n",
      "Processing Record 9 of Set 9 | misratah\n",
      "Processing Record 10 of Set 9 | ucluelet\n",
      "Processing Record 11 of Set 9 | igrim\n",
      "Processing Record 12 of Set 9 | tuatapere\n",
      "Processing Record 13 of Set 9 | inhambane\n",
      "Processing Record 14 of Set 9 | iquitos\n",
      "Processing Record 15 of Set 9 | opuwo\n",
      "Processing Record 16 of Set 9 | bongaree\n",
      "Processing Record 17 of Set 9 | nova olimpia\n",
      "Processing Record 18 of Set 9 | marand\n",
      "City not found. Skipping...\n",
      "Processing Record 19 of Set 9 | kumeny\n",
      "Processing Record 20 of Set 9 | katangli\n",
      "Processing Record 21 of Set 9 | yemelyanovo\n",
      "Processing Record 22 of Set 9 | kieta\n",
      "Processing Record 23 of Set 9 | jodhpur\n",
      "Processing Record 24 of Set 9 | rorvik\n",
      "Processing Record 25 of Set 9 | saint george\n",
      "City not found. Skipping...\n",
      "Processing Record 26 of Set 9 | brza palanka\n",
      "Processing Record 27 of Set 9 | qurayyat\n",
      "Processing Record 28 of Set 9 | verkhnyaya inta\n",
      "Processing Record 29 of Set 9 | yerbogachen\n",
      "Processing Record 30 of Set 9 | tura\n",
      "Processing Record 31 of Set 9 | sao pedro do sul\n",
      "Processing Record 32 of Set 9 | mapimi\n",
      "Processing Record 33 of Set 9 | haines junction\n",
      "Processing Record 34 of Set 9 | necochea\n",
      "Processing Record 35 of Set 9 | tazovskiy\n",
      "Processing Record 36 of Set 9 | tilichiki\n",
      "Processing Record 37 of Set 9 | kirkcudbright\n",
      "Processing Record 38 of Set 9 | albania\n",
      "Processing Record 39 of Set 9 | wahpeton\n",
      "Processing Record 40 of Set 9 | qandala\n",
      "Processing Record 41 of Set 9 | dharmadam\n",
      "Processing Record 42 of Set 9 | chupa\n",
      "Processing Record 43 of Set 9 | rypefjord\n",
      "Processing Record 44 of Set 9 | wattegama\n",
      "Processing Record 45 of Set 9 | teahupoo\n",
      "Processing Record 46 of Set 9 | ossora\n",
      "Processing Record 47 of Set 9 | seoul\n",
      "Processing Record 48 of Set 9 | rio gallegos\n",
      "Processing Record 49 of Set 9 | kameda\n",
      "Processing Record 50 of Set 9 | jacqueville\n",
      "Processing Record 0 of Set 10 | ludvika\n",
      "Processing Record 1 of Set 10 | kopong\n",
      "Processing Record 2 of Set 10 | lavumisa\n",
      "Processing Record 3 of Set 10 | simao\n",
      "Processing Record 4 of Set 10 | kupang\n",
      "Processing Record 5 of Set 10 | lamu\n",
      "Processing Record 6 of Set 10 | akbarpur\n",
      "Processing Record 7 of Set 10 | fukue\n",
      "Processing Record 8 of Set 10 | baykit\n",
      "Processing Record 9 of Set 10 | ambon\n",
      "Processing Record 10 of Set 10 | hongjiang\n",
      "Processing Record 11 of Set 10 | hambantota\n",
      "Processing Record 12 of Set 10 | ciudad bolivar\n",
      "Processing Record 13 of Set 10 | kichera\n",
      "Processing Record 14 of Set 10 | oranjemund\n",
      "Processing Record 15 of Set 10 | la libertad\n",
      "Processing Record 16 of Set 10 | lima\n",
      "Processing Record 17 of Set 10 | bakchar\n",
      "Processing Record 18 of Set 10 | channel-port aux basques\n",
      "Processing Record 19 of Set 10 | walvis bay\n",
      "Processing Record 20 of Set 10 | ahipara\n",
      "Processing Record 21 of Set 10 | accra\n",
      "Processing Record 22 of Set 10 | nunkini\n",
      "Processing Record 23 of Set 10 | morgantown\n",
      "Processing Record 24 of Set 10 | juneau\n",
      "Processing Record 25 of Set 10 | scituate\n",
      "Processing Record 26 of Set 10 | sovetskaya gavan\n",
      "Processing Record 27 of Set 10 | ekhabi\n",
      "Processing Record 28 of Set 10 | mount gambier\n",
      "Processing Record 29 of Set 10 | umm lajj\n",
      "Processing Record 30 of Set 10 | awbari\n",
      "Processing Record 31 of Set 10 | bathsheba\n",
      "City not found. Skipping...\n",
      "Processing Record 32 of Set 10 | arman\n",
      "Processing Record 33 of Set 10 | katsuura\n",
      "Processing Record 34 of Set 10 | sharan\n",
      "Processing Record 35 of Set 10 | mariakani\n",
      "Processing Record 36 of Set 10 | den helder\n",
      "Processing Record 37 of Set 10 | nahrin\n",
      "Processing Record 38 of Set 10 | ponta delgada\n",
      "Processing Record 39 of Set 10 | raudeberg\n",
      "Processing Record 40 of Set 10 | ayan\n",
      "Processing Record 41 of Set 10 | madang\n",
      "Processing Record 42 of Set 10 | esperance\n",
      "Processing Record 43 of Set 10 | takoradi\n",
      "Processing Record 44 of Set 10 | cockburn town\n",
      "Processing Record 45 of Set 10 | paramonga\n",
      "Processing Record 46 of Set 10 | state college\n",
      "Processing Record 47 of Set 10 | balakhninskiy\n",
      "Processing Record 48 of Set 10 | missungwi\n",
      "Processing Record 49 of Set 10 | nuevo progreso\n",
      "Processing Record 50 of Set 10 | benghazi\n",
      "Processing Record 0 of Set 11 | dzaoudzi\n",
      "Processing Record 1 of Set 11 | jiaozuo\n",
      "Processing Record 2 of Set 11 | kayseri\n",
      "City not found. Skipping...\n",
      "Processing Record 3 of Set 11 | grumazesti\n",
      "Processing Record 4 of Set 11 | dunedin\n",
      "Processing Record 5 of Set 11 | port moresby\n",
      "Processing Record 6 of Set 11 | hay river\n",
      "Processing Record 7 of Set 11 | garanhuns\n",
      "Processing Record 8 of Set 11 | zonguldak\n",
      "Processing Record 9 of Set 11 | beira\n",
      "Processing Record 10 of Set 11 | peleduy\n",
      "Processing Record 11 of Set 11 | bubaque\n",
      "Processing Record 12 of Set 11 | neosho\n",
      "Processing Record 13 of Set 11 | sandpoint\n",
      "Processing Record 14 of Set 11 | ingham\n",
      "Processing Record 15 of Set 11 | blyth\n",
      "Processing Record 16 of Set 11 | lithakia\n",
      "Processing Record 17 of Set 11 | amla\n",
      "Processing Record 18 of Set 11 | nakambala\n",
      "Processing Record 19 of Set 11 | sumbe\n",
      "Processing Record 20 of Set 11 | balabac\n",
      "Processing Record 21 of Set 11 | port-gentil\n",
      "Processing Record 22 of Set 11 | evensk\n",
      "Processing Record 23 of Set 11 | carutapera\n",
      "Processing Record 24 of Set 11 | port hedland\n",
      "Processing Record 25 of Set 11 | bereda\n",
      "Processing Record 26 of Set 11 | taft\n",
      "Processing Record 27 of Set 11 | cartagena\n",
      "Processing Record 28 of Set 11 | tabou\n",
      "City not found. Skipping...\n",
      "Processing Record 29 of Set 11 | chongwe\n",
      "Processing Record 30 of Set 11 | illapel\n",
      "Processing Record 31 of Set 11 | christchurch\n",
      "---------------------------\n",
      "Data Retrieval Complete\n",
      "---------------------------\n"
     ]
    }
   ],
   "source": [
    "# Set url and assign units measure in F \n",
    "url = 'http://api.openweathermap.org/data/2.5/weather?'\n",
    "units = 'imperial'\n",
    "\n",
    "# Build partial query URL\n",
    "query_url = f'{url}appid={weather_api_key}&units={units}&q='\n",
    "\n",
    "number = 1\n",
    "set_num = 1\n",
    "\n",
    "# List that's used to store the data for each city\n",
    "weather_data = []\n",
    "\n",
    "print('Beginning Data Retrieval')\n",
    "print('---------------------------')\n",
    "for city in cities:\n",
    "    response = requests.get(query_url + city).json()\n",
    "    \n",
    "    try:\n",
    "        weather_check = response['weather']\n",
    "        weather_data.append(response)     #collecting the data for 'weather_data' list\n",
    "        \n",
    "        print(f'Processing Record {number} of Set {set_num} | {city}')\n",
    "        number +=1 \n",
    "        if number == 51:\n",
    "            number=0\n",
    "            set_num +=1 \n",
    "    except:\n",
    "        print('City not found. Skipping...')\n",
    "        pass\n",
    "print('---------------------------')\n",
    "print('Data Retrieval Complete')\n",
    "print('---------------------------')\n",
    "\n",
    "# I wrote the code to match the output that was given (the answer in the cell without the code).\n",
    "# If it was up to me how to group the Sets, I would start counting Processing Record from 1 \n",
    "# instead 0. That way we would get 50 Records per Set. \n",
    "\n",
    "# Otherwise, when we start counting Processing Records from 0 (in each Set), in results \n",
    "# it gives us 51 records per Set."
   ]
  },
  {
   "cell_type": "markdown",
   "id": "8053c802",
   "metadata": {},
   "source": [
    "### Convert Raw Data to DataFrame\n",
    "* Export the city data into a .csv.\n",
    "* Display the DataFrame"
   ]
  },
  {
   "cell_type": "code",
   "execution_count": 4,
   "id": "3d6ef44b",
   "metadata": {},
   "outputs": [
    {
     "data": {
      "text/html": [
       "<div>\n",
       "<style scoped>\n",
       "    .dataframe tbody tr th:only-of-type {\n",
       "        vertical-align: middle;\n",
       "    }\n",
       "\n",
       "    .dataframe tbody tr th {\n",
       "        vertical-align: top;\n",
       "    }\n",
       "\n",
       "    .dataframe thead th {\n",
       "        text-align: right;\n",
       "    }\n",
       "</style>\n",
       "<table border=\"1\" class=\"dataframe\">\n",
       "  <thead>\n",
       "    <tr style=\"text-align: right;\">\n",
       "      <th></th>\n",
       "      <th>City</th>\n",
       "      <th>Lat</th>\n",
       "      <th>Lng</th>\n",
       "      <th>Max Temp</th>\n",
       "      <th>Humidity</th>\n",
       "      <th>Cloudiness</th>\n",
       "      <th>Wind Speed</th>\n",
       "      <th>Country</th>\n",
       "      <th>Date</th>\n",
       "    </tr>\n",
       "  </thead>\n",
       "  <tbody>\n",
       "    <tr>\n",
       "      <th>0</th>\n",
       "      <td>punta arenas</td>\n",
       "      <td>-53.1500</td>\n",
       "      <td>-70.9167</td>\n",
       "      <td>53.11</td>\n",
       "      <td>66</td>\n",
       "      <td>100</td>\n",
       "      <td>20.83</td>\n",
       "      <td>CL</td>\n",
       "      <td>1647907311</td>\n",
       "    </tr>\n",
       "    <tr>\n",
       "      <th>1</th>\n",
       "      <td>lorengau</td>\n",
       "      <td>-2.0226</td>\n",
       "      <td>147.2712</td>\n",
       "      <td>84.36</td>\n",
       "      <td>69</td>\n",
       "      <td>74</td>\n",
       "      <td>4.00</td>\n",
       "      <td>PG</td>\n",
       "      <td>1647907311</td>\n",
       "    </tr>\n",
       "    <tr>\n",
       "      <th>2</th>\n",
       "      <td>new norfolk</td>\n",
       "      <td>-42.7826</td>\n",
       "      <td>147.0587</td>\n",
       "      <td>59.04</td>\n",
       "      <td>77</td>\n",
       "      <td>100</td>\n",
       "      <td>0.81</td>\n",
       "      <td>AU</td>\n",
       "      <td>1647907312</td>\n",
       "    </tr>\n",
       "    <tr>\n",
       "      <th>3</th>\n",
       "      <td>qaanaaq</td>\n",
       "      <td>77.4840</td>\n",
       "      <td>-69.3632</td>\n",
       "      <td>-5.64</td>\n",
       "      <td>88</td>\n",
       "      <td>100</td>\n",
       "      <td>5.75</td>\n",
       "      <td>GL</td>\n",
       "      <td>1647907312</td>\n",
       "    </tr>\n",
       "    <tr>\n",
       "      <th>4</th>\n",
       "      <td>kapaa</td>\n",
       "      <td>22.0752</td>\n",
       "      <td>-159.3190</td>\n",
       "      <td>80.28</td>\n",
       "      <td>65</td>\n",
       "      <td>72</td>\n",
       "      <td>1.99</td>\n",
       "      <td>US</td>\n",
       "      <td>1647907313</td>\n",
       "    </tr>\n",
       "  </tbody>\n",
       "</table>\n",
       "</div>"
      ],
      "text/plain": [
       "           City      Lat       Lng  Max Temp  Humidity  Cloudiness  \\\n",
       "0  punta arenas -53.1500  -70.9167     53.11        66         100   \n",
       "1      lorengau  -2.0226  147.2712     84.36        69          74   \n",
       "2   new norfolk -42.7826  147.0587     59.04        77         100   \n",
       "3       qaanaaq  77.4840  -69.3632     -5.64        88         100   \n",
       "4         kapaa  22.0752 -159.3190     80.28        65          72   \n",
       "\n",
       "   Wind Speed Country        Date  \n",
       "0       20.83      CL  1647907311  \n",
       "1        4.00      PG  1647907311  \n",
       "2        0.81      AU  1647907312  \n",
       "3        5.75      GL  1647907312  \n",
       "4        1.99      US  1647907313  "
      ]
     },
     "execution_count": 4,
     "metadata": {},
     "output_type": "execute_result"
    }
   ],
   "source": [
    "output_path = os.path.join('..','output_data','cities_data.csv')\n",
    "with open (output_path, 'w', encoding = 'utf-8') as csvfile:\n",
    "    csvwriter = csv.writer(csvfile, delimiter = \",\")\n",
    "    csvwriter.writerow (['City','Lat','Lng','Max Temp','Humidity','Cloudiness','Wind Speed','Country','Date'])    \n",
    "    \n",
    "    for index in range(len(weather_data)):    \n",
    "        City = cities[index]\n",
    "        Lat = weather_data[index]['coord']['lat']\n",
    "        Lng = weather_data[index]['coord']['lon']\n",
    "        Max_Temp = weather_data[index]['main']['temp']\n",
    "        Humidity = weather_data[index]['main']['humidity']                                \n",
    "        Cloudiness = weather_data[index]['clouds']['all']\n",
    "        Wind_Speed = weather_data[index]['wind']['speed']\n",
    "        Country = weather_data[index]['sys']['country']\n",
    "        Date = weather_data[index]['dt']\n",
    "        \n",
    "        csvwriter.writerow ([City, Lat, Lng, Max_Temp, Humidity, Cloudiness, Wind_Speed, Country, Date])\n",
    "    \n",
    "# Creating Data Frame\n",
    "Cities_df = pd.read_csv(output_path)\n",
    "Cities_df.head()"
   ]
  },
  {
   "cell_type": "code",
   "execution_count": 5,
   "id": "b2bd802f",
   "metadata": {},
   "outputs": [
    {
     "data": {
      "text/html": [
       "<div>\n",
       "<style scoped>\n",
       "    .dataframe tbody tr th:only-of-type {\n",
       "        vertical-align: middle;\n",
       "    }\n",
       "\n",
       "    .dataframe tbody tr th {\n",
       "        vertical-align: top;\n",
       "    }\n",
       "\n",
       "    .dataframe thead th {\n",
       "        text-align: right;\n",
       "    }\n",
       "</style>\n",
       "<table border=\"1\" class=\"dataframe\">\n",
       "  <thead>\n",
       "    <tr style=\"text-align: right;\">\n",
       "      <th></th>\n",
       "      <th>Lat</th>\n",
       "      <th>Lng</th>\n",
       "      <th>Max Temp</th>\n",
       "      <th>Humidity</th>\n",
       "      <th>Cloudiness</th>\n",
       "      <th>Wind Speed</th>\n",
       "      <th>Date</th>\n",
       "    </tr>\n",
       "  </thead>\n",
       "  <tbody>\n",
       "    <tr>\n",
       "      <th>count</th>\n",
       "      <td>541.000000</td>\n",
       "      <td>541.000000</td>\n",
       "      <td>541.000000</td>\n",
       "      <td>541.000000</td>\n",
       "      <td>541.000000</td>\n",
       "      <td>541.000000</td>\n",
       "      <td>5.410000e+02</td>\n",
       "    </tr>\n",
       "    <tr>\n",
       "      <th>mean</th>\n",
       "      <td>18.666730</td>\n",
       "      <td>19.514504</td>\n",
       "      <td>55.420832</td>\n",
       "      <td>74.255083</td>\n",
       "      <td>57.556377</td>\n",
       "      <td>8.527412</td>\n",
       "      <td>1.647907e+09</td>\n",
       "    </tr>\n",
       "    <tr>\n",
       "      <th>std</th>\n",
       "      <td>33.929723</td>\n",
       "      <td>90.877321</td>\n",
       "      <td>25.634711</td>\n",
       "      <td>19.892340</td>\n",
       "      <td>39.218135</td>\n",
       "      <td>6.552844</td>\n",
       "      <td>1.036890e+02</td>\n",
       "    </tr>\n",
       "    <tr>\n",
       "      <th>min</th>\n",
       "      <td>-54.800000</td>\n",
       "      <td>-175.200000</td>\n",
       "      <td>-18.800000</td>\n",
       "      <td>5.000000</td>\n",
       "      <td>0.000000</td>\n",
       "      <td>0.000000</td>\n",
       "      <td>1.647907e+09</td>\n",
       "    </tr>\n",
       "    <tr>\n",
       "      <th>25%</th>\n",
       "      <td>-10.166700</td>\n",
       "      <td>-60.700000</td>\n",
       "      <td>36.720000</td>\n",
       "      <td>65.000000</td>\n",
       "      <td>17.000000</td>\n",
       "      <td>3.760000</td>\n",
       "      <td>1.647907e+09</td>\n",
       "    </tr>\n",
       "    <tr>\n",
       "      <th>50%</th>\n",
       "      <td>21.333300</td>\n",
       "      <td>25.570100</td>\n",
       "      <td>64.710000</td>\n",
       "      <td>79.000000</td>\n",
       "      <td>67.000000</td>\n",
       "      <td>6.910000</td>\n",
       "      <td>1.647907e+09</td>\n",
       "    </tr>\n",
       "    <tr>\n",
       "      <th>75%</th>\n",
       "      <td>48.932900</td>\n",
       "      <td>98.634800</td>\n",
       "      <td>76.320000</td>\n",
       "      <td>89.000000</td>\n",
       "      <td>99.000000</td>\n",
       "      <td>11.500000</td>\n",
       "      <td>1.647907e+09</td>\n",
       "    </tr>\n",
       "    <tr>\n",
       "      <th>max</th>\n",
       "      <td>78.218600</td>\n",
       "      <td>179.316700</td>\n",
       "      <td>89.110000</td>\n",
       "      <td>100.000000</td>\n",
       "      <td>100.000000</td>\n",
       "      <td>46.550000</td>\n",
       "      <td>1.647908e+09</td>\n",
       "    </tr>\n",
       "  </tbody>\n",
       "</table>\n",
       "</div>"
      ],
      "text/plain": [
       "              Lat         Lng    Max Temp    Humidity  Cloudiness  Wind Speed  \\\n",
       "count  541.000000  541.000000  541.000000  541.000000  541.000000  541.000000   \n",
       "mean    18.666730   19.514504   55.420832   74.255083   57.556377    8.527412   \n",
       "std     33.929723   90.877321   25.634711   19.892340   39.218135    6.552844   \n",
       "min    -54.800000 -175.200000  -18.800000    5.000000    0.000000    0.000000   \n",
       "25%    -10.166700  -60.700000   36.720000   65.000000   17.000000    3.760000   \n",
       "50%     21.333300   25.570100   64.710000   79.000000   67.000000    6.910000   \n",
       "75%     48.932900   98.634800   76.320000   89.000000   99.000000   11.500000   \n",
       "max     78.218600  179.316700   89.110000  100.000000  100.000000   46.550000   \n",
       "\n",
       "               Date  \n",
       "count  5.410000e+02  \n",
       "mean   1.647907e+09  \n",
       "std    1.036890e+02  \n",
       "min    1.647907e+09  \n",
       "25%    1.647907e+09  \n",
       "50%    1.647907e+09  \n",
       "75%    1.647907e+09  \n",
       "max    1.647908e+09  "
      ]
     },
     "execution_count": 5,
     "metadata": {},
     "output_type": "execute_result"
    }
   ],
   "source": [
    "Stats_df = Cities_df.describe()\n",
    "Stats_df"
   ]
  },
  {
   "cell_type": "markdown",
   "id": "31c15f33",
   "metadata": {},
   "source": [
    "## Inspect the data and remove the cities where the humidity > 100%.\n",
    "----\n",
    "Skip this step if there are no cities that have humidity > 100%."
   ]
  },
  {
   "cell_type": "code",
   "execution_count": 6,
   "id": "23f075aa",
   "metadata": {},
   "outputs": [
    {
     "data": {
      "text/html": [
       "<div>\n",
       "<style scoped>\n",
       "    .dataframe tbody tr th:only-of-type {\n",
       "        vertical-align: middle;\n",
       "    }\n",
       "\n",
       "    .dataframe tbody tr th {\n",
       "        vertical-align: top;\n",
       "    }\n",
       "\n",
       "    .dataframe thead th {\n",
       "        text-align: right;\n",
       "    }\n",
       "</style>\n",
       "<table border=\"1\" class=\"dataframe\">\n",
       "  <thead>\n",
       "    <tr style=\"text-align: right;\">\n",
       "      <th></th>\n",
       "      <th>Lat</th>\n",
       "      <th>Lng</th>\n",
       "      <th>Max Temp</th>\n",
       "      <th>Humidity</th>\n",
       "      <th>Cloudiness</th>\n",
       "      <th>Wind Speed</th>\n",
       "      <th>Date</th>\n",
       "    </tr>\n",
       "  </thead>\n",
       "  <tbody>\n",
       "    <tr>\n",
       "      <th>count</th>\n",
       "      <td>541.000000</td>\n",
       "      <td>541.000000</td>\n",
       "      <td>541.000000</td>\n",
       "      <td>541.000000</td>\n",
       "      <td>541.000000</td>\n",
       "      <td>541.000000</td>\n",
       "      <td>5.410000e+02</td>\n",
       "    </tr>\n",
       "    <tr>\n",
       "      <th>mean</th>\n",
       "      <td>18.666730</td>\n",
       "      <td>19.514504</td>\n",
       "      <td>55.420832</td>\n",
       "      <td>74.255083</td>\n",
       "      <td>57.556377</td>\n",
       "      <td>8.527412</td>\n",
       "      <td>1.647907e+09</td>\n",
       "    </tr>\n",
       "    <tr>\n",
       "      <th>std</th>\n",
       "      <td>33.929723</td>\n",
       "      <td>90.877321</td>\n",
       "      <td>25.634711</td>\n",
       "      <td>19.892340</td>\n",
       "      <td>39.218135</td>\n",
       "      <td>6.552844</td>\n",
       "      <td>1.036890e+02</td>\n",
       "    </tr>\n",
       "    <tr>\n",
       "      <th>min</th>\n",
       "      <td>-54.800000</td>\n",
       "      <td>-175.200000</td>\n",
       "      <td>-18.800000</td>\n",
       "      <td>5.000000</td>\n",
       "      <td>0.000000</td>\n",
       "      <td>0.000000</td>\n",
       "      <td>1.647907e+09</td>\n",
       "    </tr>\n",
       "    <tr>\n",
       "      <th>25%</th>\n",
       "      <td>-10.166700</td>\n",
       "      <td>-60.700000</td>\n",
       "      <td>36.720000</td>\n",
       "      <td>65.000000</td>\n",
       "      <td>17.000000</td>\n",
       "      <td>3.760000</td>\n",
       "      <td>1.647907e+09</td>\n",
       "    </tr>\n",
       "    <tr>\n",
       "      <th>50%</th>\n",
       "      <td>21.333300</td>\n",
       "      <td>25.570100</td>\n",
       "      <td>64.710000</td>\n",
       "      <td>79.000000</td>\n",
       "      <td>67.000000</td>\n",
       "      <td>6.910000</td>\n",
       "      <td>1.647907e+09</td>\n",
       "    </tr>\n",
       "    <tr>\n",
       "      <th>75%</th>\n",
       "      <td>48.932900</td>\n",
       "      <td>98.634800</td>\n",
       "      <td>76.320000</td>\n",
       "      <td>89.000000</td>\n",
       "      <td>99.000000</td>\n",
       "      <td>11.500000</td>\n",
       "      <td>1.647907e+09</td>\n",
       "    </tr>\n",
       "    <tr>\n",
       "      <th>max</th>\n",
       "      <td>78.218600</td>\n",
       "      <td>179.316700</td>\n",
       "      <td>89.110000</td>\n",
       "      <td>100.000000</td>\n",
       "      <td>100.000000</td>\n",
       "      <td>46.550000</td>\n",
       "      <td>1.647908e+09</td>\n",
       "    </tr>\n",
       "  </tbody>\n",
       "</table>\n",
       "</div>"
      ],
      "text/plain": [
       "              Lat         Lng    Max Temp    Humidity  Cloudiness  Wind Speed  \\\n",
       "count  541.000000  541.000000  541.000000  541.000000  541.000000  541.000000   \n",
       "mean    18.666730   19.514504   55.420832   74.255083   57.556377    8.527412   \n",
       "std     33.929723   90.877321   25.634711   19.892340   39.218135    6.552844   \n",
       "min    -54.800000 -175.200000  -18.800000    5.000000    0.000000    0.000000   \n",
       "25%    -10.166700  -60.700000   36.720000   65.000000   17.000000    3.760000   \n",
       "50%     21.333300   25.570100   64.710000   79.000000   67.000000    6.910000   \n",
       "75%     48.932900   98.634800   76.320000   89.000000   99.000000   11.500000   \n",
       "max     78.218600  179.316700   89.110000  100.000000  100.000000   46.550000   \n",
       "\n",
       "               Date  \n",
       "count  5.410000e+02  \n",
       "mean   1.647907e+09  \n",
       "std    1.036890e+02  \n",
       "min    1.647907e+09  \n",
       "25%    1.647907e+09  \n",
       "50%    1.647907e+09  \n",
       "75%    1.647907e+09  \n",
       "max    1.647908e+09  "
      ]
     },
     "execution_count": 6,
     "metadata": {},
     "output_type": "execute_result"
    }
   ],
   "source": [
    "#I don't have cities with over 100% of Humidity at the moment of working with the current Data Set.\n",
    "#In case I re-run my code, and different random cities appear which do have over 100% of Humidity...\n",
    "#then the code below will filter out and keep the cities with no more than 100% Humidity.\n",
    "\n",
    "Filtered_df = Cities_df.loc[Cities_df['Humidity'] <=100, :]\n",
    "Updated_Stats_df = Filtered_df.describe()\n",
    "Updated_Stats_df"
   ]
  },
  {
   "cell_type": "code",
   "execution_count": 7,
   "id": "8df83d18",
   "metadata": {},
   "outputs": [
    {
     "data": {
      "text/plain": [
       "[]"
      ]
     },
     "execution_count": 7,
     "metadata": {},
     "output_type": "execute_result"
    }
   ],
   "source": [
    "#  Get the indices of cities that have humidity over 100%.\n",
    "\n",
    "# Again, I did it just because if I re-run my code and cities with over 100% Humidity will appear.\n",
    "#I didn't need to do this step for my curent Data Set.\n",
    "\n",
    "Index_list = Cities_df[Cities_df['Humidity'] > 100].index.tolist()\n",
    "Index_list"
   ]
  },
  {
   "cell_type": "code",
   "execution_count": 8,
   "id": "ba1db7c6",
   "metadata": {},
   "outputs": [
    {
     "data": {
      "text/html": [
       "<div>\n",
       "<style scoped>\n",
       "    .dataframe tbody tr th:only-of-type {\n",
       "        vertical-align: middle;\n",
       "    }\n",
       "\n",
       "    .dataframe tbody tr th {\n",
       "        vertical-align: top;\n",
       "    }\n",
       "\n",
       "    .dataframe thead th {\n",
       "        text-align: right;\n",
       "    }\n",
       "</style>\n",
       "<table border=\"1\" class=\"dataframe\">\n",
       "  <thead>\n",
       "    <tr style=\"text-align: right;\">\n",
       "      <th></th>\n",
       "      <th>City</th>\n",
       "      <th>Lat</th>\n",
       "      <th>Lng</th>\n",
       "      <th>Max Temp</th>\n",
       "      <th>Humidity</th>\n",
       "      <th>Cloudiness</th>\n",
       "      <th>Wind Speed</th>\n",
       "      <th>Country</th>\n",
       "      <th>Date</th>\n",
       "    </tr>\n",
       "  </thead>\n",
       "  <tbody>\n",
       "    <tr>\n",
       "      <th>0</th>\n",
       "      <td>punta arenas</td>\n",
       "      <td>-53.1500</td>\n",
       "      <td>-70.9167</td>\n",
       "      <td>53.11</td>\n",
       "      <td>66</td>\n",
       "      <td>100</td>\n",
       "      <td>20.83</td>\n",
       "      <td>CL</td>\n",
       "      <td>1647907311</td>\n",
       "    </tr>\n",
       "    <tr>\n",
       "      <th>1</th>\n",
       "      <td>lorengau</td>\n",
       "      <td>-2.0226</td>\n",
       "      <td>147.2712</td>\n",
       "      <td>84.36</td>\n",
       "      <td>69</td>\n",
       "      <td>74</td>\n",
       "      <td>4.00</td>\n",
       "      <td>PG</td>\n",
       "      <td>1647907311</td>\n",
       "    </tr>\n",
       "    <tr>\n",
       "      <th>2</th>\n",
       "      <td>new norfolk</td>\n",
       "      <td>-42.7826</td>\n",
       "      <td>147.0587</td>\n",
       "      <td>59.04</td>\n",
       "      <td>77</td>\n",
       "      <td>100</td>\n",
       "      <td>0.81</td>\n",
       "      <td>AU</td>\n",
       "      <td>1647907312</td>\n",
       "    </tr>\n",
       "    <tr>\n",
       "      <th>3</th>\n",
       "      <td>qaanaaq</td>\n",
       "      <td>77.4840</td>\n",
       "      <td>-69.3632</td>\n",
       "      <td>-5.64</td>\n",
       "      <td>88</td>\n",
       "      <td>100</td>\n",
       "      <td>5.75</td>\n",
       "      <td>GL</td>\n",
       "      <td>1647907312</td>\n",
       "    </tr>\n",
       "    <tr>\n",
       "      <th>4</th>\n",
       "      <td>kapaa</td>\n",
       "      <td>22.0752</td>\n",
       "      <td>-159.3190</td>\n",
       "      <td>80.28</td>\n",
       "      <td>65</td>\n",
       "      <td>72</td>\n",
       "      <td>1.99</td>\n",
       "      <td>US</td>\n",
       "      <td>1647907313</td>\n",
       "    </tr>\n",
       "  </tbody>\n",
       "</table>\n",
       "</div>"
      ],
      "text/plain": [
       "           City      Lat       Lng  Max Temp  Humidity  Cloudiness  \\\n",
       "0  punta arenas -53.1500  -70.9167     53.11        66         100   \n",
       "1      lorengau  -2.0226  147.2712     84.36        69          74   \n",
       "2   new norfolk -42.7826  147.0587     59.04        77         100   \n",
       "3       qaanaaq  77.4840  -69.3632     -5.64        88         100   \n",
       "4         kapaa  22.0752 -159.3190     80.28        65          72   \n",
       "\n",
       "   Wind Speed Country        Date  \n",
       "0       20.83      CL  1647907311  \n",
       "1        4.00      PG  1647907311  \n",
       "2        0.81      AU  1647907312  \n",
       "3        5.75      GL  1647907312  \n",
       "4        1.99      US  1647907313  "
      ]
     },
     "execution_count": 8,
     "metadata": {},
     "output_type": "execute_result"
    }
   ],
   "source": [
    "# Make a new DataFrame equal to the city data to drop all humidity outliers by index.\n",
    "# Passing \"inplace=False\" will make a copy of the city_data DataFrame, which we call \"clean_city_data\".\n",
    "\n",
    "# I did it above with the .loc function... So I call it. (but as I stated above, this whole step wasn't needed for my curent Data Set)\n",
    "Filtered_df.head()"
   ]
  },
  {
   "cell_type": "markdown",
   "id": "77137c2a",
   "metadata": {},
   "source": [
    "## Plotting the Data\n",
    "* Use proper labeling of the plots using plot titles (including date of analysis) and axes labels.\n",
    "* Save the plotted figures as .pngs."
   ]
  },
  {
   "cell_type": "markdown",
   "id": "8e8294a4",
   "metadata": {},
   "source": [
    "## Latitude vs. Temperature Plot"
   ]
  },
  {
   "cell_type": "code",
   "execution_count": 9,
   "id": "f081ce1b",
   "metadata": {},
   "outputs": [],
   "source": [
    "#Defining a general function to create Scatter Plot Graphs\n",
    "def weather_scatter_plot(x_values, y_values,title, x_label, y_label):\n",
    "    \n",
    "    #Create Scatter Plot\n",
    "    plt.scatter(x_values,y_values, edgecolors='black')\n",
    "    plt.grid(color='#9FA095', alpha=1)\n",
    "    \n",
    "    #Title and Labels\n",
    "    plt.title(title)\n",
    "    plt.xlabel(x_label)\n",
    "    plt.ylabel(y_label)"
   ]
  },
  {
   "cell_type": "code",
   "execution_count": 10,
   "id": "1048daee",
   "metadata": {},
   "outputs": [
    {
     "data": {
      "image/png": "[encoded data removed]",
      "text/plain": [
       "<Figure size 432x288 with 1 Axes>"
      ]
     },
     "metadata": {
      "needs_background": "light"
     },
     "output_type": "display_data"
    }
   ],
   "source": [
    "#Get today's date and format it mm/dd/yy\n",
    "Today = date.today()\n",
    "Todays_date = Today.strftime('%m/%d/%y')\n",
    "\n",
    "#Creating City Latitude vs Max Temperature scatter plot\n",
    "weather_scatter_plot(Filtered_df['Lat'], Filtered_df['Max Temp'],\n",
    "                     f'City Latitude vs. Max Temperature ({Todays_date})',\n",
    "                     'Latitude', 'Max Temperature (f)')\n",
    "\n",
    "#Saving Figure to my output_data folder\n",
    "plt.savefig(\"../output_data/Lat_vs_MaxTemp.png\")\n",
    "\n",
    "#Show the plot\n",
    "plt.show()"
   ]
  },
  {
   "cell_type": "markdown",
   "id": "cacbf593",
   "metadata": {},
   "source": [
    "Analysis:\n",
    "This graph shows us that the furthest we are from the equator the maximum temperature drops. The reason behind it - earth shape is round and not every place on earth receives the same amount of sunlight heat (warmth). Also, we see our Max Temperature isn't exactly on 0 degree Latitude but rather between 20 and 30 degree Latitudes. This makes sense as we know that the maximum temperature on Earth are around the Tropic of Cancer."
   ]
  },
  {
   "cell_type": "markdown",
   "id": "b1cdf57c",
   "metadata": {},
   "source": [
    "## Latitude vs. Humidity Plot"
   ]
  },
  {
   "cell_type": "code",
   "execution_count": 11,
   "id": "93a2f0e4",
   "metadata": {},
   "outputs": [
    {
     "data": {
      "image/png": "[encoded data removed]",
      "text/plain": [
       "<Figure size 432x288 with 1 Axes>"
      ]
     },
     "metadata": {
      "needs_background": "light"
     },
     "output_type": "display_data"
    }
   ],
   "source": [
    "#Creating City Latitude vs Humidity scatter plot\n",
    "weather_scatter_plot(Filtered_df['Lat'], Filtered_df['Humidity'],\n",
    "                     f'City Latitude vs. Humidity ({Todays_date})',\n",
    "                     'Latitude', 'Humidity (%)')\n",
    "\n",
    "#Saving Figure to my output_data folder\n",
    "plt.savefig(\"../output_data/Lat_vs_Humidity.png\")\n",
    "\n",
    "#Show the plot\n",
    "plt.show()"
   ]
  },
  {
   "cell_type": "markdown",
   "id": "0af9da2a",
   "metadata": {},
   "source": [
    "Analysis:\n",
    "It doesn't seem like there is any correlation between Latitude and Humidity. The Humidity in cities is spread out across all Latitudes."
   ]
  },
  {
   "cell_type": "markdown",
   "id": "f800c73c",
   "metadata": {},
   "source": [
    "## Latitude vs. Cloudiness Plot"
   ]
  },
  {
   "cell_type": "code",
   "execution_count": 12,
   "id": "f7b23a80",
   "metadata": {},
   "outputs": [
    {
     "data": {
      "image/png": "[encoded data removed]",
      "text/plain": [
       "<Figure size 432x288 with 1 Axes>"
      ]
     },
     "metadata": {
      "needs_background": "light"
     },
     "output_type": "display_data"
    }
   ],
   "source": [
    "#Creating City Latitude vs Cloudiness scatter plot\n",
    "weather_scatter_plot(Filtered_df['Lat'], Filtered_df['Cloudiness'],\n",
    "                     f'City Latitude vs. Cloudiness ({Todays_date})',\n",
    "                     'Latitude', 'Cloudiness (%)')\n",
    "\n",
    "#Saving Figure to my output_data folder\n",
    "plt.savefig(\"../output_data/Lat_vs_Cloudiness.png\")\n",
    "\n",
    "#Show the plot\n",
    "plt.show()"
   ]
  },
  {
   "cell_type": "markdown",
   "id": "f1481bdd",
   "metadata": {},
   "source": [
    "Analysis:\n",
    "There is no correlations between Latitude and Cloudiness. However, we do see there are bands of cities at various levels of Cloudiness (for example, Cloudiness: 0, 20, 40, 75,90, 100)."
   ]
  },
  {
   "cell_type": "markdown",
   "id": "593ca121",
   "metadata": {},
   "source": [
    "## Latitude vs. Wind Speed Plot"
   ]
  },
  {
   "cell_type": "code",
   "execution_count": 13,
   "id": "fa78e147",
   "metadata": {},
   "outputs": [
    {
     "data": {
      "image/png": "[encoded data removed]",
      "text/plain": [
       "<Figure size 432x288 with 1 Axes>"
      ]
     },
     "metadata": {
      "needs_background": "light"
     },
     "output_type": "display_data"
    }
   ],
   "source": [
    "#Creating City Latitude vs Wind Speed scatter plot\n",
    "weather_scatter_plot(Filtered_df['Lat'], Filtered_df['Wind Speed'],\n",
    "                     f'City Latitude vs. Wind Speed ({Todays_date})',\n",
    "                     'Latitude', 'Wind Speed (mph)')\n",
    "\n",
    "#Saving Figure to my output_data folder\n",
    "plt.savefig(\"../output_data/Lat_vs_WindSpeed.png\")\n",
    "\n",
    "#Show the plot\n",
    "plt.show()"
   ]
  },
  {
   "cell_type": "markdown",
   "id": "5404fde3",
   "metadata": {},
   "source": [
    "Analysis:\n",
    "There is no strong corelation between Latitude and Wind Speed. The plot shows that most of the cities fall into 0 to 15 mph Wind Speed."
   ]
  },
  {
   "cell_type": "markdown",
   "id": "9cbee0e2",
   "metadata": {},
   "source": [
    "## Linear Regression"
   ]
  },
  {
   "cell_type": "code",
   "execution_count": 14,
   "id": "1614e50b",
   "metadata": {},
   "outputs": [],
   "source": [
    "#Defining a general function to create Linear Regression Plots\n",
    "def plot_linear_regression(x_values, y_values, x_line_eq, y_line_eq, x_label, y_label):\n",
    "    \n",
    "    #Perform  Linear Regression\n",
    "    (slope, intercept, rvalue, pvalue, stderr) = linregress(x_values, y_values) \n",
    "    \n",
    "    #Get regression values\n",
    "    regress_values = x_values * slope + intercept\n",
    "    \n",
    "    #Create line equation string\n",
    "    line_eq = \"y = \" + str(round(slope,2)) + \"x + \" + str(round(intercept,2))\n",
    "    \n",
    "    #Create Scatter Plot\n",
    "    plt.scatter(x_values,y_values)\n",
    "    plt.plot(x_values,regress_values,\"r-\")\n",
    "    \n",
    "    #Displaying equation on the plot\n",
    "    plt.annotate(line_eq,(x_line_eq, y_line_eq),fontsize=15,color=\"red\")\n",
    "    \n",
    "    #Labels\n",
    "    plt.xlabel(x_label)\n",
    "    plt.ylabel(y_label)\n",
    "    \n",
    "    #Printing r-values\n",
    "    print(f'The r-value is: {rvalue**2}')"
   ]
  },
  {
   "cell_type": "markdown",
   "id": "d3c3dbf6",
   "metadata": {},
   "source": [
    "####  Northern Hemisphere - Max Temp vs. Latitude Linear Regression"
   ]
  },
  {
   "cell_type": "code",
   "execution_count": 15,
   "id": "cf5460bd",
   "metadata": {},
   "outputs": [
    {
     "name": "stdout",
     "output_type": "stream",
     "text": [
      "The r-value is: 0.7923485717506374\n"
     ]
    },
    {
     "data": {
      "image/png": "[encoded data removed]",
      "text/plain": [
       "<Figure size 432x288 with 1 Axes>"
      ]
     },
     "metadata": {
      "needs_background": "light"
     },
     "output_type": "display_data"
    }
   ],
   "source": [
    "#Filtering the Data to get Northern Hemisphere\n",
    "Northern_df = Filtered_df.loc[Filtered_df['Lat']>0, :]\n",
    "\n",
    "#Plotting Latitude vs Max Temp chart for the Nothern Hemisphere \n",
    "plot_linear_regression(Northern_df['Lat'], Northern_df['Max Temp'],1,35,'Latitude', 'Max Temp')\n",
    "\n",
    "#Saving Figure to my output_data folder\n",
    "plt.savefig(\"../output_data/NorthernHem_Lat_vs_MaxTemp.png\")\n",
    "\n",
    "#Show the plot\n",
    "plt.show()"
   ]
  },
  {
   "cell_type": "markdown",
   "id": "72a06486",
   "metadata": {},
   "source": [
    "Analysis:\n",
    "There is moderate negative relationship between Latitude and Max Temp in the Northern Hemisphere. Max Temp decreases when we move away from the equator."
   ]
  },
  {
   "cell_type": "markdown",
   "id": "ca0f97c5",
   "metadata": {},
   "source": [
    "####  Southern Hemisphere - Max Temp vs. Latitude Linear Regression"
   ]
  },
  {
   "cell_type": "code",
   "execution_count": 16,
   "id": "81f17ae9",
   "metadata": {},
   "outputs": [
    {
     "name": "stdout",
     "output_type": "stream",
     "text": [
      "The r-value is: 0.2776776455247449\n"
     ]
    },
    {
     "data": {
      "image/png": "[encoded data removed]",
      "text/plain": [
       "<Figure size 432x288 with 1 Axes>"
      ]
     },
     "metadata": {
      "needs_background": "light"
     },
     "output_type": "display_data"
    }
   ],
   "source": [
    "#Filtering the Data to get Southern Hemisphere\n",
    "Southern_df = Filtered_df.loc[Filtered_df['Lat']<0, :]\n",
    "\n",
    "#Plotting Latitude vs Max Temp chart for the Souhern Hemisphere \n",
    "plot_linear_regression(Southern_df['Lat'], Southern_df['Max Temp'],-55,90,'Latitude', 'Max Temp')\n",
    "\n",
    "#Saving Figure to my output_data folder\n",
    "plt.savefig(\"../output_data/SouthernHem_Lat_vs_MaxTemp.png\")\n",
    "\n",
    "#Show the plot\n",
    "plt.show()"
   ]
  },
  {
   "cell_type": "markdown",
   "id": "d652ca88",
   "metadata": {},
   "source": [
    "Analysis:\n",
    "There is moderate positive relationship between Latitude and Max Temp in the Southern Hemisphere. As we get closer to equator, temperature increases."
   ]
  },
  {
   "cell_type": "markdown",
   "id": "8be5a706",
   "metadata": {},
   "source": [
    "####  Northern Hemisphere - Humidity (%) vs. Latitude Linear Regression"
   ]
  },
  {
   "cell_type": "code",
   "execution_count": 17,
   "id": "a304edb0",
   "metadata": {},
   "outputs": [
    {
     "name": "stdout",
     "output_type": "stream",
     "text": [
      "The r-value is: 0.07718512413796076\n"
     ]
    },
    {
     "data": {
      "image/png": "[encoded data removed]",
      "text/plain": [
       "<Figure size 432x288 with 1 Axes>"
      ]
     },
     "metadata": {
      "needs_background": "light"
     },
     "output_type": "display_data"
    }
   ],
   "source": [
    "#Plotting Latitude vs Humidity chart for the Nothern Hemisphere \n",
    "plot_linear_regression(Northern_df['Lat'], Northern_df['Humidity'],0,15,'Latitude', 'Humidity (%)')\n",
    "\n",
    "#Saving Figure to my output_data folder\n",
    "plt.savefig(\"../output_data/NorthernHem_Lat_vs_Humidity.png\")\n",
    "\n",
    "#Show the plot\n",
    "plt.show()"
   ]
  },
  {
   "cell_type": "markdown",
   "id": "f64e03ec",
   "metadata": {},
   "source": [
    "Analysis:\n",
    "Our r-value is very close to 0. It is fair to say there is no linear relationship (if r < 0.25, it is consiedered as no relationship) between Latitude vs Humidity in the Nothern Hemisphere. Humidity level isn't affected by Latitude."
   ]
  },
  {
   "cell_type": "markdown",
   "id": "26565241",
   "metadata": {},
   "source": [
    "####  Southern Hemisphere - Humidity (%) vs. Latitude Linear Regression"
   ]
  },
  {
   "cell_type": "code",
   "execution_count": 18,
   "id": "91fb4bfb",
   "metadata": {},
   "outputs": [
    {
     "name": "stdout",
     "output_type": "stream",
     "text": [
      "The r-value is: 0.061189886794328914\n"
     ]
    },
    {
     "data": {
      "image/png": "[encoded data removed]",
      "text/plain": [
       "<Figure size 432x288 with 1 Axes>"
      ]
     },
     "metadata": {
      "needs_background": "light"
     },
     "output_type": "display_data"
    }
   ],
   "source": [
    "#Plotting Latitude vs Humidity chart for the Southern Hemisphere \n",
    "plot_linear_regression(Southern_df['Lat'], Southern_df['Humidity'],-55,20,'Latitude', 'Humidity (%)')\n",
    "\n",
    "#Saving Figure to my output_data folder\n",
    "plt.savefig(\"../output_data/SouthernHem_Lat_vs_Humidity.png\")\n",
    "\n",
    "#Show the plot\n",
    "plt.show()"
   ]
  },
  {
   "cell_type": "markdown",
   "id": "da7fc584",
   "metadata": {},
   "source": [
    "Analysis:\n",
    "Our r-value is very close to 0. It is fair to say there is no linear relationship (if r < 0.25, it is consiedered as no relationship) between Latitude vs Humidity in the Southern Hemisphere. Humidity level isn't affected by Latitude."
   ]
  },
  {
   "cell_type": "markdown",
   "id": "ea80a3ca",
   "metadata": {},
   "source": [
    "####  Northern Hemisphere - Cloudiness (%) vs. Latitude Linear Regression"
   ]
  },
  {
   "cell_type": "code",
   "execution_count": 19,
   "id": "42c08425",
   "metadata": {},
   "outputs": [
    {
     "name": "stdout",
     "output_type": "stream",
     "text": [
      "The r-value is: 0.016001455839304794\n"
     ]
    },
    {
     "data": {
      "image/png": "[encoded data removed]",
      "text/plain": [
       "<Figure size 432x288 with 1 Axes>"
      ]
     },
     "metadata": {
      "needs_background": "light"
     },
     "output_type": "display_data"
    }
   ],
   "source": [
    "#Plotting Latitude vs Cloudiness chart for the Nothern Hemisphere \n",
    "plot_linear_regression(Northern_df['Lat'], Northern_df['Cloudiness'],0,33,'Latitude', 'Cloudiness (%)')\n",
    "\n",
    "#Saving Figure to my output_data folder\n",
    "plt.savefig(\"../output_data/NorthernHem_Lat_vs_Cloudiness.png\")\n",
    "\n",
    "#Show the plot\n",
    "plt.show()"
   ]
  },
  {
   "cell_type": "markdown",
   "id": "80cfe4e5",
   "metadata": {},
   "source": [
    "Analysis:\n",
    "Our r-value is very close to 0. It is fair to say there no linear relationship (if r < 0.25, it is consiedered as no relationship) between Latitude vs Cloudiness in the Nothern Hemisphere. Level of Cloudiness isn't affected by Latitude. The interesting thing here - there are bands of cities at certain cloudiness levels."
   ]
  },
  {
   "cell_type": "markdown",
   "id": "d49b19e5",
   "metadata": {},
   "source": [
    "####  Southern Hemisphere - Cloudiness (%) vs. Latitude Linear Regression"
   ]
  },
  {
   "cell_type": "code",
   "execution_count": 20,
   "id": "0e69708a",
   "metadata": {},
   "outputs": [
    {
     "name": "stdout",
     "output_type": "stream",
     "text": [
      "The r-value is: 0.07568559656192633\n"
     ]
    },
    {
     "data": {
      "image/png": "[encoded data removed]",
      "text/plain": [
       "<Figure size 432x288 with 1 Axes>"
      ]
     },
     "metadata": {
      "needs_background": "light"
     },
     "output_type": "display_data"
    }
   ],
   "source": [
    "#Plotting Latitude vs Cloudiness chart for the Sothern Hemisphere \n",
    "plot_linear_regression(Southern_df['Lat'], Southern_df['Cloudiness'],-55,20,'Latitude', 'Cloudiness (%)')\n",
    "\n",
    "#Saving Figure to my output_data folder\n",
    "plt.savefig(\"../output_data/SouthernHem_Lat_vs_Cloudiness.png\")\n",
    "\n",
    "#Show the plot\n",
    "plt.show()"
   ]
  },
  {
   "cell_type": "markdown",
   "id": "1eb9a4b2",
   "metadata": {},
   "source": [
    "Analysis:\n",
    "Our r-value is very close to 0. It is fair to say there is no linear relationship (if r < 0.25, it is consiedered as no relationship) between Latitude vs Cloudiness in the Southern Hemisphere. Level of Cloudiness isn't affected by Latitude."
   ]
  },
  {
   "cell_type": "markdown",
   "id": "190faace",
   "metadata": {},
   "source": [
    "####  Northern Hemisphere - Wind Speed (mph) vs. Latitude Linear Regression"
   ]
  },
  {
   "cell_type": "code",
   "execution_count": 21,
   "id": "49c6cf2c",
   "metadata": {},
   "outputs": [
    {
     "name": "stdout",
     "output_type": "stream",
     "text": [
      "The r-value is: 0.00898068073473699\n"
     ]
    },
    {
     "data": {
      "image/png": "[encoded data removed]",
      "text/plain": [
       "<Figure size 432x288 with 1 Axes>"
      ]
     },
     "metadata": {
      "needs_background": "light"
     },
     "output_type": "display_data"
    }
   ],
   "source": [
    "#Plotting Latitude vs Wind Speed chart for the Nothern Hemisphere \n",
    "plot_linear_regression(Northern_df['Lat'], Northern_df['Wind Speed'],20,29,'Latitude', 'Wind Speed (mph)')\n",
    "\n",
    "#Saving Figure to my output_data folder\n",
    "plt.savefig(\"../output_data/NorthernHem_Lat_vs_WindSpeed.png\")\n",
    "\n",
    "#Show the plot\n",
    "plt.show()"
   ]
  },
  {
   "cell_type": "markdown",
   "id": "d0759e02",
   "metadata": {},
   "source": [
    "Analysis:\n",
    "Our r-value is very close to 0. It is fair to say there is no relationship (if r < 0.25, it is consiedered as no relationship) between Latitude vs Wind Speed in the Northern Hemisphere. Wind Speed isn't affected by Latitude."
   ]
  },
  {
   "cell_type": "markdown",
   "id": "d1127405",
   "metadata": {},
   "source": [
    "####  Southern Hemisphere - Wind Speed (mph) vs. Latitude Linear Regression"
   ]
  },
  {
   "cell_type": "code",
   "execution_count": 22,
   "id": "01704d13",
   "metadata": {},
   "outputs": [
    {
     "name": "stdout",
     "output_type": "stream",
     "text": [
      "The r-value is: 0.10140564775472584\n"
     ]
    },
    {
     "data": {
      "image/png": "[encoded data removed]",
      "text/plain": [
       "<Figure size 432x288 with 1 Axes>"
      ]
     },
     "metadata": {
      "needs_background": "light"
     },
     "output_type": "display_data"
    }
   ],
   "source": [
    "#Plotting Latitude vs Wind Speed chart for the Sothern Hemisphere \n",
    "plot_linear_regression(Southern_df['Lat'], Southern_df['Wind Speed'],-32,20,'Latitude', 'Wind Speed (mph)')\n",
    "\n",
    "#Saving Figure to my output_data folder\n",
    "plt.savefig(\"../output_data/SouthernHem_Lat_vs_WindSpeed.png\")\n",
    "\n",
    "#Show the plot\n",
    "plt.show()"
   ]
  },
  {
   "cell_type": "markdown",
   "id": "b6b54751",
   "metadata": {},
   "source": [
    "Analysis:\n",
    "Our r-value is very close to 0. It is fair to say there is no relationship (if r < 0.25, it is consiedered as no relationship) between Latitude vs Wind Speed in the Southern Hemisphere. Wind Speed isn't affected by Latitude."
   ]
  },
  {
   "cell_type": "code",
   "execution_count": null,
   "id": "1b0bba2b",
   "metadata": {},
   "outputs": [],
   "source": []
  }
 ],
 "metadata": {
  "kernelspec": {
   "display_name": "Python 3",
   "language": "python",
   "name": "python3"
  },
  "language_info": {
   "codemirror_mode": {
    "name": "ipython",
    "version": 3
   },
   "file_extension": ".py",
   "mimetype": "text/x-python",
   "name": "python",
   "nbconvert_exporter": "python",
   "pygments_lexer": "ipython3",
   "version": "3.8.8"
  }
 },
 "nbformat": 4,
 "nbformat_minor": 5
}
